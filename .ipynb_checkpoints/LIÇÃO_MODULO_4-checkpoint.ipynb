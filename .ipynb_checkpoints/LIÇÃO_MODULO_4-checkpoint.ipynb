{
 "cells": [
  {
   "cell_type": "code",
   "execution_count": 5,
   "metadata": {},
   "outputs": [
    {
     "name": "stdout",
     "output_type": "stream",
     "text": [
      "Learn YAML tutorials with Multiline Strings examples\n"
     ]
    }
   ],
   "source": [
    "from requests import get\n",
    "from bs4 import BeautifulSoup\n",
    "\n",
    "w3 = get('https://www.w3schools.io/file/yaml-sample-example/')\n",
    "\n",
    "tags = BeautifulSoup(w3.text, 'html5lib')\n",
    "titulo = tags.find('title')\n",
    "print(titulo.text)"
   ]
  },
  {
   "cell_type": "code",
   "execution_count": 1,
   "metadata": {},
   "outputs": [
    {
     "name": "stdout",
     "output_type": "stream",
     "text": [
      "{'c': '# yaml document begining,# comment syntax,# basic syntax - key and value separated by colon and space before value,# Scalar data types,# integer value,# floating vale,# string with double quotes,# string with single quotes,# string without quotes,# boolean values - true or false,# Multiline strinsg with literal block syntax -preserved new lines,# Multiline strings with folded block syntax - new lines are not preserved, leading and trailing spaces are ignore,# Collection sequence data types,# sequence arraylist example,# other way of sequence  syntax example,### dictionary', 'nt': 'key,integerValue,floatingValue,stringValue,stringValue,stringValue,string1,string1,mysqldatabase,hostname,port,username,password', '1': '', 'm': '1,1,3012', 's2': '\"456\"', 's1': \"'abc'\", 'sd': '\\n,   Line1\\n,   line2\\n,   \"line3\",\\n,   Line1\\n,   line2\\n,   \"line3\"'}\n"
     ]
    }
   ],
   "source": [
    "import csv\n",
    "\n",
    "arquivo = csv.DictReader(open('comenta_yaml.csv', encoding='utf-8'))\n",
    "arquivo1 = []\n",
    "for linha in arquivo:\n",
    "    arquivo1.append(linha)\n",
    "for i in arquivo1:\n",
    "    print(i)"
   ]
  },
  {
   "cell_type": "code",
   "execution_count": 2,
   "metadata": {},
   "outputs": [
    {
     "name": "stdout",
     "output_type": "stream",
     "text": [
      "['yaml', 'document', 'begining', 'comment', 'syntax', 'basic', 'syntax', 'key', 'and', 'value', 'separated', 'by', 'colon', 'and', 'space', 'before', 'value', 'Scalar', 'data', 'types', 'integer', 'value', 'floating', 'vale', 'string', 'with', 'double', 'quotes', 'string', 'with', 'single', 'quotes', 'string', 'without', 'quotes', 'boolean', 'values', 'true', 'or', 'false', 'Multiline', 'strinsg', 'with', 'literal', 'block', 'syntax', 'preserved', 'new', 'lines', 'Multiline', 'strings', 'with', 'folded', 'block', 'syntax', 'new', 'lines', 'are', 'not', 'preserved', 'leading', 'and', 'trailing', 'spaces', 'are', 'ignore', 'Collection', 'sequence', 'data', 'types', 'sequence', 'arraylist', 'example', 'other', 'way', 'of', 'sequence', 'syntax', 'example', 'dictionary']\n"
     ]
    }
   ],
   "source": [
    "from re import findall\n",
    "comentarios = []\n",
    "for comenta in arquivo1:\n",
    "    comentarios.append(comenta['c'])\n",
    "    \n",
    "for strin in comentarios:\n",
    "    print(findall(r\"\\w+\", strin))"
   ]
  },
  {
   "cell_type": "code",
   "execution_count": 3,
   "metadata": {},
   "outputs": [],
   "source": [
    "from yaml import load, FullLoader, dump\n",
    "\n",
    "with open('novo_yaml.yml', 'w') as yaml_novo:\n",
    "    dump(arquivo1, yaml_novo)"
   ]
  },
  {
   "cell_type": "code",
   "execution_count": 4,
   "metadata": {},
   "outputs": [
    {
     "name": "stdout",
     "output_type": "stream",
     "text": [
      "[{'1': '', 'c': '# yaml document begining,# comment syntax,# basic syntax - key and value separated by colon and space before value,# Scalar data types,# integer value,# floating vale,# string with double quotes,# string with single quotes,# string without quotes,# boolean values - true or false,# Multiline strinsg with literal block syntax -preserved new lines,# Multiline strings with folded block syntax - new lines are not preserved, leading and trailing spaces are ignore,# Collection sequence data types,# sequence arraylist example,# other way of sequence  syntax example,### dictionary', 'm': '1,1,3012', 'nt': 'key,integerValue,floatingValue,stringValue,stringValue,stringValue,string1,string1,mysqldatabase,hostname,port,username,password', 's1': \"'abc'\", 's2': '\"456\"', 'sd': '\\n,   Line1\\n,   line2\\n,   \"line3\",\\n,   Line1\\n,   line2\\n,   \"line3\"'}]\n"
     ]
    }
   ],
   "source": [
    "with open('novo_yaml.yml') as file:\n",
    "    arqui = load(file, Loader=FullLoader)\n",
    "print(arqui)"
   ]
  },
  {
   "cell_type": "code",
   "execution_count": null,
   "metadata": {},
   "outputs": [],
   "source": []
  }
 ],
 "metadata": {
  "kernelspec": {
   "display_name": "Python 3",
   "language": "python",
   "name": "python3"
  },
  "language_info": {
   "codemirror_mode": {
    "name": "ipython",
    "version": 3
   },
   "file_extension": ".py",
   "mimetype": "text/x-python",
   "name": "python",
   "nbconvert_exporter": "python",
   "pygments_lexer": "ipython3",
   "version": "3.8.5"
  }
 },
 "nbformat": 4,
 "nbformat_minor": 4
}
